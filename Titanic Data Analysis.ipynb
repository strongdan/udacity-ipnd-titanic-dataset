{
 "cells": [
  {
<<<<<<< HEAD
   "cell_type": "markdown",
   "metadata": {},
   "source": [
    "### Questions for Analysis\n",
    "<ol>\n",
    "<li>Does the age structure of survivors differ significantly from perished passengers?</li>\n",
    "        * Were certain age ranges more likely to survive?\n",
    "    \n",
    "    \n",
    "<li>Did the size of a person's family have an effect on survivorship?</li>\n",
    "        * Do the numbers of children, parents, siblings, and spouses improve or decrease a person's chance for survival?\n",
    "    \n",
    "    \n",
    "<li>What effect do sex or social class have on survivorship</li>\n",
    "        * Did women survive more frequently than men? \n",
    "        * Did social class affect survivorship?\n",
    "        * Did social class and sex work together to improve survivorship?\n",
    "</ol>    "
   ]
  },
  {
   "cell_type": "code",
   "execution_count": 1,
=======
   "cell_type": "code",
   "execution_count": 83,
>>>>>>> 3bbcd6943dfdfa3e874150e21e6a4aef84d00457
   "metadata": {
    "collapsed": true
   },
   "outputs": [],
   "source": [
    "import pandas as pd\n",
    "import numpy as np\n",
    "import matplotlib.pyplot as plt\n",
<<<<<<< HEAD
    "import plotly.plotly as py\n",
    "import plotly.tools as tls\n",
=======
>>>>>>> 3bbcd6943dfdfa3e874150e21e6a4aef84d00457
    "import seaborn as sns\n",
    "import pdb\n",
    "from scipy.stats import ttest_ind\n",
    "%matplotlib inline"
   ]
  },
  {
   "cell_type": "markdown",
   "metadata": {},
   "source": [
<<<<<<< HEAD
    "### Read in csv file and get rough overview of data\n",
    "\n",
    "First I looked at the first five rows and column names to get an idea of what the data looks like. I then looked at the data types for each field and see how many null records are in each field. A quick look at summary statics using <b>.describe()</b> shows me that the mean age of passengers is just under 30, and that ages range from less than a year to 80 years. The mean value might change once I fill in NaN values. \n",
    "\n",
    "Since I'm interested in family size, I looked at the mean numbers of siblings/spouses (1.1) and parents/children (0.38). I calculated the total number of survivors (342 of 891 total passengers), and what percent of the total passengers they made up (38.4% or roughly 2/5). \n",
    "\n",
    "For the count of passengers by sex I expected 50%, since that's the ratio for the general population, but the ratio is slightly higher - 54.4% women. The large majority of passengers were third class (55.1%), followed by first (24.2%), then second (20.7%).\n",
    "\n",
    "Again, some of these values may change after data cleaning. "
=======
    "Data Dictionary\n",
    "\n",
    "Variable\tDefinition\tKey\n",
    "survival\tSurvival\t0 = No, 1 = Yes\n",
    "pclass\tTicket class\t1 = 1st, 2 = 2nd, 3 = 3rd\n",
    "sex\tSex\t\n",
    "Age\tAge in years\t\n",
    "sibsp\t# of siblings / spouses aboard the Titanic\t\n",
    "parch\t# of parents / children aboard the Titanic\t\n",
    "ticket\tTicket number\t\n",
    "fare\tPassenger fare\t\n",
    "cabin\tCabin number\t\n",
    "embarked\tPort of Embarkation"
>>>>>>> 3bbcd6943dfdfa3e874150e21e6a4aef84d00457
   ]
  },
  {
   "cell_type": "code",
<<<<<<< HEAD
   "execution_count": 1,
   "metadata": {},
   "outputs": [
    {
     "ename": "NameError",
     "evalue": "name 'pd' is not defined",
     "output_type": "error",
     "traceback": [
      "\u001b[0;31m---------------------------------------------------------------------------\u001b[0m",
      "\u001b[0;31mNameError\u001b[0m                                 Traceback (most recent call last)",
      "\u001b[0;32m<ipython-input-1-162e0c8e9311>\u001b[0m in \u001b[0;36m<module>\u001b[0;34m()\u001b[0m\n\u001b[0;32m----> 1\u001b[0;31m \u001b[0mtitanic\u001b[0m \u001b[1;33m=\u001b[0m \u001b[0mpd\u001b[0m\u001b[1;33m.\u001b[0m\u001b[0mread_csv\u001b[0m\u001b[1;33m(\u001b[0m\u001b[1;34m\"titanic_data.csv\"\u001b[0m\u001b[1;33m)\u001b[0m\u001b[1;33m\u001b[0m\u001b[0m\n\u001b[0m\u001b[1;32m      2\u001b[0m \u001b[1;33m\u001b[0m\u001b[0m\n\u001b[1;32m      3\u001b[0m \u001b[0mtitanic\u001b[0m\u001b[1;33m.\u001b[0m\u001b[0minfo\u001b[0m\u001b[1;33m(\u001b[0m\u001b[1;33m)\u001b[0m \u001b[1;31m# total of 891 records, 714 non-null records for age -> may need to fillna\u001b[0m\u001b[1;33m\u001b[0m\u001b[0m\n\u001b[1;32m      4\u001b[0m \u001b[1;33m\u001b[0m\u001b[0m\n\u001b[1;32m      5\u001b[0m \u001b[0mprint\u001b[0m\u001b[1;33m(\u001b[0m\u001b[0mtitanic\u001b[0m\u001b[1;33m.\u001b[0m\u001b[0mdescribe\u001b[0m\u001b[1;33m(\u001b[0m\u001b[1;33m)\u001b[0m\u001b[1;33m)\u001b[0m \u001b[1;31m# Summary Stats\u001b[0m\u001b[1;33m\u001b[0m\u001b[0m\n",
      "\u001b[0;31mNameError\u001b[0m: name 'pd' is not defined"
     ]
    }
   ],
   "source": [
    "titanic = pd.read_csv(\"titanic_data.csv\")\n",
    "\n",
    "titanic.info() # total of 891 records, 714 non-null records for age -> may need to fillna\n",
    "\n",
    "print(titanic.describe()) # Summary Stats\n",
    "\n",
    "# calculate number of survivors and total passengers\n",
    "survived = int(titanic['Survived'].value_counts()[1])\n",
    "total_passengers = float(titanic['PassengerId'].nunique())\n",
    "\n",
    "print('\\nHow many passengers survived?') #=> 342\n",
    "print(survived)\n",
    "\n",
    "print('\\nWhat percentage of passengers survived?') #=> 38.4%\n",
    "print(str(round(((survived/total_passengers) * 100), 1)) + \"%\")\n",
    "\n",
    "# calculate the number of women and men\n",
    "total_women = int(titanic['PassengerId'][titanic['Sex'] == 'female'].nunique())\n",
    "total_men = float(titanic['PassengerId'][titanic['Sex'] == 'male'].nunique())\n",
    "print('total women:', total_women) # 314 women\n",
    "print('total men:', total_men) # 577 men\n",
    "print('% female', (total_women / total_men) * 100)\n",
    "\n",
    "# calculate the number of passengers by class\n",
    "first_class = int(titanic['PassengerId'][titanic['Pclass'] == 1].nunique())\n",
    "second_class = int(titanic['PassengerId'][titanic['Pclass'] == 2].nunique())\n",
    "third_class = int(titanic['PassengerId'][titanic['Pclass'] == 3].nunique())\n",
    "\n",
    "# Summarize results by class\n",
    "print('1st class passengers:', first_class)\n",
    "print('Percent 1st class passengers:', str(round(((first_class / total_passengers) * 100), 1)) + \"%\")\n",
    "print('2nd class passengers:', second_class)\n",
    "print('Percent 2nd class passengers:', str(round(((second_class / total_passengers) * 100), 1)) + \"%\")\n",
    "print('3rd class passengers:', third_class)\n",
    "print('Percent 3rd class passengers:', str(round(((third_class / total_passengers) * 100), 1)) + \"%\")\n",
    "\n",
    "titanic.head() # get a quick look at fields and typical data for each"
   ]
  },
  {
   "cell_type": "markdown",
   "metadata": {},
   "source": [
    "### Data Wrangling Phase\n",
    "I use a function to fill NaN values in the age column, and create a new column - family size - by adding together siblings/spouses and parents/children. I also use this step to drop unnecessary fields, along with any rows or columns containing all NaN values. "
   ]
  },
  {
   "cell_type": "code",
   "execution_count": 2,
   "metadata": {},
   "outputs": [
    {
     "ename": "NameError",
     "evalue": "name 'titanic' is not defined",
     "output_type": "error",
     "traceback": [
      "\u001b[0;31m---------------------------------------------------------------------------\u001b[0m",
      "\u001b[0;31mNameError\u001b[0m                                 Traceback (most recent call last)",
      "\u001b[0;32m<ipython-input-2-1308d2ea5226>\u001b[0m in \u001b[0;36m<module>\u001b[0;34m()\u001b[0m\n\u001b[1;32m      1\u001b[0m \u001b[1;31m# Use a t-test to see whether to ignore NaN values in age column or fill with the mean\u001b[0m\u001b[1;33m\u001b[0m\u001b[1;33m\u001b[0m\u001b[0m\n\u001b[0;32m----> 2\u001b[0;31m \u001b[0mwith_age\u001b[0m \u001b[1;33m=\u001b[0m \u001b[0mtitanic\u001b[0m\u001b[1;33m[\u001b[0m\u001b[0mtitanic\u001b[0m\u001b[1;33m[\u001b[0m\u001b[1;34m'Age'\u001b[0m\u001b[1;33m]\u001b[0m\u001b[1;33m.\u001b[0m\u001b[0mnotnull\u001b[0m\u001b[1;33m(\u001b[0m\u001b[1;33m)\u001b[0m\u001b[1;33m]\u001b[0m\u001b[1;33m\u001b[0m\u001b[0m\n\u001b[0m\u001b[1;32m      3\u001b[0m \u001b[0mwithout_age\u001b[0m \u001b[1;33m=\u001b[0m \u001b[0mtitanic\u001b[0m\u001b[1;33m[\u001b[0m\u001b[0mtitanic\u001b[0m\u001b[1;33m[\u001b[0m\u001b[1;34m'Age'\u001b[0m\u001b[1;33m]\u001b[0m\u001b[1;33m.\u001b[0m\u001b[0misnull\u001b[0m\u001b[1;33m(\u001b[0m\u001b[1;33m)\u001b[0m\u001b[1;33m]\u001b[0m\u001b[1;33m\u001b[0m\u001b[0m\n\u001b[1;32m      4\u001b[0m \u001b[0mttest_ind\u001b[0m\u001b[1;33m(\u001b[0m\u001b[0mwith_age\u001b[0m\u001b[1;33m[\u001b[0m\u001b[1;34m'Survived'\u001b[0m\u001b[1;33m]\u001b[0m\u001b[1;33m,\u001b[0m \u001b[0mwithout_age\u001b[0m\u001b[1;33m[\u001b[0m\u001b[1;34m'Survived'\u001b[0m\u001b[1;33m]\u001b[0m\u001b[1;33m)\u001b[0m\u001b[1;33m\u001b[0m\u001b[0m\n\u001b[1;32m      5\u001b[0m \u001b[1;31m# value of 2.76 indicates a significant difference and suggests filling NaNs with the age mean, which we do in the modify_columns function\u001b[0m\u001b[1;33m\u001b[0m\u001b[1;33m\u001b[0m\u001b[0m\n",
      "\u001b[0;31mNameError\u001b[0m: name 'titanic' is not defined"
     ]
    }
   ],
   "source": [
    "# Use a t-test to see whether to ignore NaN values in age column or fill with the mean\n",
    "with_age = titanic[titanic['Age'].notnull()]\n",
    "without_age = titanic[titanic['Age'].isnull()]\n",
    "ttest_ind(with_age['Survived'], without_age['Survived'])\n",
    "# value of 2.76 indicates a significant difference and suggests filling NaNs with the age mean, which we do in the modify_columns function\n",
    "\n",
    "def modify_columns(df):\n",
    "    \n",
    "    # fill NaN age values with mean\n",
    "    df['Age'] = df['Age'].fillna(df['Age'].mean())\n",
    "    \n",
    "    # Passenger class\n",
    "    #pclass = {1: 'First', 2: 'Second', 3: 'Third'}\n",
    "    #df['Pclass'] = df['Pclass'].map(pclass)\n",
    "    \n",
    "    # family size = sum of SibSp and Parch\n",
    "    df['family_size'] = df['SibSp'] + df['Parch']\n",
    "    \n",
    "    # drop name because it has no use for this analysis\n",
    "    # drop ticket number because it serves no use - passenger id will suffice\n",
    "    # drop fare because class will provide more useful information\n",
    "    # drop port of embarkation because it has no use in my analysis\n",
    "    df = df.drop(['Cabin','Name','Ticket', 'Fare', 'Embarked'], axis=1)\n",
    "    \n",
    "    # Remove rows where there are NaN values in all columns\n",
    "    df = df.dropna( how = \"all\" )\n",
    "    # Remove columns where all the values are NaN\n",
    "    df = df.dropna( axis = 1, how = \"all\" )\n",
    "    \n",
    "    return df\n",
    "\n",
    "titanic_df = modify_columns(titanic)\n",
    "titanic_df.describe()"
   ]
  },
  {
   "cell_type": "markdown",
   "metadata": {},
   "source": [
    "### Exploration Phase\n",
    "1. Review the age structure three groups: all passengers, survivors and perishers. \n",
    "2. Review the effect of family size, siblings/spouses and parents/children on survivorship\n",
    "3. Review the effect of sex and class, by themselves and jointly, on survivorship"
   ]
  },
  {
   "cell_type": "code",
   "execution_count": null,
   "metadata": {
    "collapsed": true
   },
   "outputs": [],
   "source": [
    "# A brief look at some individual variables - ages first\n",
    "\n",
    "# compare age median and mean => equal values???\n",
    "median = titanic['Age'].median()\n",
    "mean = titanic['Age'].mean()\n",
    "print('age median:',median,'age mean:',mean)\n",
    "\n",
    "# New dataframes for survivors and perished\n",
    "survivors = titanic_df[titanic_df[\"Survived\"] == 1]\n",
    "print('Number of survivors:',survivors.shape[0]) #=> 342 rows, matches our earlier assessment\n",
    "\n",
    "perishers = titanic_df[titanic_df[\"Survived\"] == 0]\n",
    "print('Number of perished:',perishers.shape[0]) #=> 549 perished\n",
    "\n",
    "print('survivor mean age:',survivors['Age'].mean())\n",
    "print('perished mean age:',perishers['Age'].mean())\n",
    "print('perished mean age:',perishers['Age'].mean())\n",
    "\n",
    "# first I plot all passenger ages as a box plot\n",
    "titanic_df['Age'].plot(kind='box', title='All Passenger Ages')\n",
    "plt.show()\n",
    "\n",
    "# then I create subplots for survivor and perisher ages\n",
    "fig, axs = plt.subplots(1,2)\n",
    "\n",
    "survivors['Age'].plot(kind='box',ax=axs[0],title='Survivor Ages')\n",
    "perishers['Age'].plot(kind='box',ax=axs[1],title='Perished Ages')\n",
    "\n",
    "plt.show()\n",
    "\n",
    "# using violin plots doesn't provide much insight\n",
    "sns.factorplot('Age',  'Survived',  data = titanic_df, hue_order = [1,0], orient='h',kind=\"violin\")\n",
    "\n",
    "# The plots don't point to any particular age trend among survivors, so I'm skeptical that age had much to do with survival\n",
    "# we can use a t-test to see whether \"survivors\" and \"perished\" age structures are significantly different\n",
    "ttest_ind(perished['Age'], survivors['Age'])\n",
    "# 2.09 indicates a signfificant difference between the ages of survivors and those who perished\n",
    "# I will dig more into this during the analysis phase"
   ]
  },
  {
   "cell_type": "code",
   "execution_count": null,
   "metadata": {
    "collapsed": true
   },
   "outputs": [],
   "source": [
    "%pylab inline\n",
    "#sns.factorplot('Pclass','Survived', data = titanic_df, kind = 'bar')\n",
    "\n",
    "sns.factorplot('Sex', 'Survived', data = titanic_df, kind = 'bar')\n",
    "#sns.factorplot('Pclass', 'Survived', hue = 'Sex', data = titanic_df, kind = 'bar')"
   ]
  },
  {
   "cell_type": "code",
   "execution_count": 2,
=======
   "execution_count": 84,
>>>>>>> 3bbcd6943dfdfa3e874150e21e6a4aef84d00457
   "metadata": {},
   "outputs": [
    {
     "name": "stdout",
     "output_type": "stream",
     "text": [
      "<class 'pandas.core.frame.DataFrame'>\n",
      "RangeIndex: 891 entries, 0 to 890\n",
      "Data columns (total 12 columns):\n",
      "PassengerId    891 non-null int64\n",
      "Survived       891 non-null int64\n",
      "Pclass         891 non-null int64\n",
      "Name           891 non-null object\n",
      "Sex            891 non-null object\n",
      "Age            714 non-null float64\n",
      "SibSp          891 non-null int64\n",
      "Parch          891 non-null int64\n",
      "Ticket         891 non-null object\n",
      "Fare           891 non-null float64\n",
      "Cabin          204 non-null object\n",
      "Embarked       889 non-null object\n",
      "dtypes: float64(2), int64(5), object(5)\n",
      "memory usage: 83.6+ KB\n"
     ]
<<<<<<< HEAD
    },
    {
     "data": {
      "image/png": "iVBORw0KGgoAAAANSUhEUgAAAV0AAAEBCAYAAADbxHY7AAAABHNCSVQICAgIfAhkiAAAAAlwSFlz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\nRK5CYII=\n",
      "text/plain": [
       "<matplotlib.figure.Figure at 0xbed3ba8>"
      ]
     },
     "metadata": {},
     "output_type": "display_data"
=======
>>>>>>> 3bbcd6943dfdfa3e874150e21e6a4aef84d00457
    }
   ],
   "source": [
    "titanic = pd.read_csv(\"titanic_data.csv\")\n",
<<<<<<< HEAD
    "titanic.info()\n",
    "\n",
    "# how many people survived? #=> 342\n",
    "titanic['Survived'].value_counts()\n",
    "\n",
    "titanic['Survived'].value_counts(normalize=True) * 100 #=> 38.4% survived\n",
    "\n",
    "# Summary Stats\n",
    "titanic.describe()\n",
    "\n",
    "# Survived by Sex\n",
    "survival_by_sex = pd.crosstab( titanic.Sex, titanic.Survived )\n",
    "survival_by_sex\n",
    "\n",
    "# Survived by Class\n",
    "survived_by_class = pd.crosstab( titanic.Pclass, titanic.Survived )\n",
    "survived_by_class\n",
    "\n",
    "# box plot of ages\n",
    "sns.set_style(\"whitegrid\")\n",
    "ax = sns.boxplot(x=titanic[\"Age\"])"
=======
    "titanic.info()"
>>>>>>> 3bbcd6943dfdfa3e874150e21e6a4aef84d00457
   ]
  },
  {
   "cell_type": "code",
<<<<<<< HEAD
   "execution_count": 3,
=======
   "execution_count": 85,
>>>>>>> 3bbcd6943dfdfa3e874150e21e6a4aef84d00457
   "metadata": {},
   "outputs": [
    {
     "data": {
      "text/plain": [
       "Ttest_indResult(statistic=2.7606993230995345, pvalue=0.0058865348400755626)"
      ]
     },
<<<<<<< HEAD
     "execution_count": 3,
=======
     "execution_count": 85,
>>>>>>> 3bbcd6943dfdfa3e874150e21e6a4aef84d00457
     "metadata": {},
     "output_type": "execute_result"
    }
   ],
   "source": [
    "# Use a t-test to see whether to ignore NaN values in age column or fill with the mean\n",
    "with_age = titanic[titanic['Age'].notnull()]\n",
    "without_age = titanic[titanic['Age'].isnull()]\n",
<<<<<<< HEAD
    "ttest_ind(with_age['Survived'], without_age['Survived'])\n",
=======
    "ttest_ind(with_age['Survived'], without_age['Survived']) \n",
>>>>>>> 3bbcd6943dfdfa3e874150e21e6a4aef84d00457
    "# value of 2.76 indicates a significant difference and suggests filling NaNs with the age mean"
   ]
  },
  {
   "cell_type": "code",
<<<<<<< HEAD
   "execution_count": 4,
   "metadata": {},
   "outputs": [
    {
     "name": "stdout",
     "output_type": "stream",
     "text": [
      "<class 'pandas.core.frame.DataFrame'>\n",
      "Int64Index: 891 entries, 0 to 890\n",
      "Data columns (total 8 columns):\n",
      "PassengerId    891 non-null int64\n",
      "Survived       891 non-null int64\n",
      "Pclass         891 non-null object\n",
      "Sex            891 non-null object\n",
      "Age            891 non-null float64\n",
      "SibSp          891 non-null int64\n",
      "Parch          891 non-null int64\n",
      "family_size    891 non-null int64\n",
      "dtypes: float64(1), int64(5), object(2)\n",
      "memory usage: 62.6+ KB\n"
     ]
=======
   "execution_count": 86,
   "metadata": {},
   "outputs": [
    {
     "data": {
      "text/plain": [
       "   PassengerId  Survived Pclass     Sex   Age  family_size\n",
       "0            1         0  Lower    male  22.0            1\n",
       "1            2         1  Upper  female  38.0            1\n",
       "2            3         1  Lower  female  26.0            0\n",
       "3            4         1  Upper  female  35.0            1\n",
       "4            5         0  Lower    male  35.0            0"
      ]
     },
     "execution_count": 86,
     "metadata": {},
     "output_type": "execute_result"
>>>>>>> 3bbcd6943dfdfa3e874150e21e6a4aef84d00457
    }
   ],
   "source": [
    "def modify_columns(df):\n",
<<<<<<< HEAD
    "    \n",
    "    # fill NaN age values with mean\n",
    "    df['Age'] = df['Age'].fillna(df['Age'].mean())\n",
    "    \n",
=======
    "\n",
>>>>>>> 3bbcd6943dfdfa3e874150e21e6a4aef84d00457
    "    # Passenger class\n",
    "    pclass = {1: 'Upper', 2: 'Middle', 3: 'Lower'}\n",
    "    df['Pclass'] = df['Pclass'].map(pclass)\n",
    "    \n",
    "    # family size = sum of SibSp and Parch\n",
    "    df['family_size'] = df['SibSp'] + df['Parch']\n",
    "    \n",
    "    # drop name because it has no use for this analysis\n",
    "    # drop ticket number because it serves no use - passenger id will suffice\n",
    "    # drop fare because class will provide more useful information\n",
    "    # drop port of embarkation because it has no use in my analysis\n",
<<<<<<< HEAD
    "    df = df.drop(['Cabin','Name','Ticket', 'Fare', 'Embarked'], axis=1)\n",
    "    \n",
    "    # Remove rows where there are NaN values in all columns\n",
    "    df = df.dropna( how = \"all\" )\n",
    "    # Remove columns where all the values are NaN\n",
    "    df = df.dropna( axis = 1, how = \"all\" )\n",
=======
    "    df = df.drop(['Cabin','Name','Ticket', 'Fare', 'SibSp','Parch','Embarked'], axis=1)\n",
>>>>>>> 3bbcd6943dfdfa3e874150e21e6a4aef84d00457
    "    \n",
    "    return df\n",
    "\n",
    "titanic_df = modify_columns(titanic)\n",
<<<<<<< HEAD
    "titanic_df.info()"
=======
    "titanic_df.head()"
>>>>>>> 3bbcd6943dfdfa3e874150e21e6a4aef84d00457
   ]
  },
  {
   "cell_type": "code",
<<<<<<< HEAD
   "execution_count": 7,
=======
   "execution_count": 87,
>>>>>>> 3bbcd6943dfdfa3e874150e21e6a4aef84d00457
   "metadata": {},
   "outputs": [
    {
     "data": {
<<<<<<< HEAD
      "image/png": "iVBORw0KGgoAAAANSUhEUgAAAV0AAAEBCAYAAADbxHY7AAAABHNCSVQICAgIfAhkiAAAAAlwSFlz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\n",
      "text/plain": [
       "<matplotlib.figure.Figure at 0xcaffc50>"
=======
      "text/plain": [
       "<matplotlib.figure.Figure at 0x7ffa5ea034d0>"
>>>>>>> 3bbcd6943dfdfa3e874150e21e6a4aef84d00457
      ]
     },
     "metadata": {},
     "output_type": "display_data"
    }
   ],
   "source": [
<<<<<<< HEAD
    "survivors = pd.DataFrame(titanic_df[titanic_df.Survived == 1])\n",
    "# box plot of survivor ages\n",
    "#sns.set_style(\"whitegrid\")\n",
    "#ax = sns.boxplot(x=survivors[\"Age\"])\n",
    "\n",
    "#perishers = pd.DataFrame(titanic_df[titanic_df.Survived == 0])\n",
    "# box plot of perisher ages\n",
    "#sns.set_style(\"whitegrid\")\n",
    "#perishers = sns.load_dataset(\"perishers\")\n",
    "#ax = sns.boxplot(x=titanic_df[titanic_df.Survived == 0])\n",
    "#ay = sns.boxplot(x=perishers[\"Age\"])\n",
    "#ay.show()\n",
    "\n",
    "sns.set_style(\"whitegrid\")\n",
    "tips = sns.load_dataset(\"tips\")\n",
    "ax = sns.boxplot(x=tips[\"total_bill\"])"
   ]
  },
  {
   "cell_type": "code",
   "execution_count": 91,
   "metadata": {},
   "outputs": [
    {
     "ename": "AttributeError",
     "evalue": "'Series' object has no attribute 'Survived'",
     "output_type": "error",
     "traceback": [
      "\u001b[0;31m---------------------------------------------------------------------------\u001b[0m",
      "\u001b[0;31mAttributeError\u001b[0m                            Traceback (most recent call last)",
      "\u001b[0;32m<ipython-input-91-4876364f9558>\u001b[0m in \u001b[0;36m<module>\u001b[0;34m()\u001b[0m\n\u001b[1;32m     11\u001b[0m \u001b[0;34m\u001b[0m\u001b[0m\n\u001b[1;32m     12\u001b[0m \u001b[0;31m#survived = sibling_spouse_survival.loc[(sibling_spouse_survival.Survived == 1)]\u001b[0m\u001b[0;34m\u001b[0m\u001b[0;34m\u001b[0m\u001b[0m\n\u001b[0;32m---> 13\u001b[0;31m \u001b[0mdeceased\u001b[0m \u001b[0;34m=\u001b[0m \u001b[0msibling_spouse_survival\u001b[0m\u001b[0;34m.\u001b[0m\u001b[0mloc\u001b[0m\u001b[0;34m[\u001b[0m\u001b[0;34m(\u001b[0m\u001b[0msibling_spouse_survival\u001b[0m\u001b[0;34m.\u001b[0m\u001b[0mSurvived\u001b[0m \u001b[0;34m==\u001b[0m \u001b[0;36m0\u001b[0m\u001b[0;34m)\u001b[0m\u001b[0;34m]\u001b[0m\u001b[0;34m\u001b[0m\u001b[0m\n\u001b[0m\u001b[1;32m     14\u001b[0m \u001b[0;34m\u001b[0m\u001b[0m\n\u001b[1;32m     15\u001b[0m \u001b[0mpyplot\u001b[0m\u001b[0;34m.\u001b[0m\u001b[0mhist\u001b[0m\u001b[0;34m(\u001b[0m\u001b[0msurvived\u001b[0m\u001b[0;34m,\u001b[0m \u001b[0mlabel\u001b[0m\u001b[0;34m=\u001b[0m\u001b[0;34m'Survived'\u001b[0m\u001b[0;34m)\u001b[0m\u001b[0;34m\u001b[0m\u001b[0m\n",
      "\u001b[0;32m/projects/sage/sage-7.6/local/lib/python2.7/site-packages/pandas/core/generic.py\u001b[0m in \u001b[0;36m__getattr__\u001b[0;34m(self, name)\u001b[0m\n\u001b[1;32m   2968\u001b[0m             \u001b[0;32mif\u001b[0m \u001b[0mname\u001b[0m \u001b[0;32min\u001b[0m \u001b[0mself\u001b[0m\u001b[0;34m.\u001b[0m\u001b[0m_info_axis\u001b[0m\u001b[0;34m:\u001b[0m\u001b[0;34m\u001b[0m\u001b[0m\n\u001b[1;32m   2969\u001b[0m                 \u001b[0;32mreturn\u001b[0m \u001b[0mself\u001b[0m\u001b[0;34m[\u001b[0m\u001b[0mname\u001b[0m\u001b[0;34m]\u001b[0m\u001b[0;34m\u001b[0m\u001b[0m\n\u001b[0;32m-> 2970\u001b[0;31m             \u001b[0;32mreturn\u001b[0m \u001b[0mobject\u001b[0m\u001b[0;34m.\u001b[0m\u001b[0m__getattribute__\u001b[0m\u001b[0;34m(\u001b[0m\u001b[0mself\u001b[0m\u001b[0;34m,\u001b[0m \u001b[0mname\u001b[0m\u001b[0;34m)\u001b[0m\u001b[0;34m\u001b[0m\u001b[0m\n\u001b[0m\u001b[1;32m   2971\u001b[0m \u001b[0;34m\u001b[0m\u001b[0m\n\u001b[1;32m   2972\u001b[0m     \u001b[0;32mdef\u001b[0m \u001b[0m__setattr__\u001b[0m\u001b[0;34m(\u001b[0m\u001b[0mself\u001b[0m\u001b[0;34m,\u001b[0m \u001b[0mname\u001b[0m\u001b[0;34m,\u001b[0m \u001b[0mvalue\u001b[0m\u001b[0;34m)\u001b[0m\u001b[0;34m:\u001b[0m\u001b[0;34m\u001b[0m\u001b[0m\n",
      "\u001b[0;31mAttributeError\u001b[0m: 'Series' object has no attribute 'Survived'"
     ]
    }
   ],
   "source": [
    "survival_by_sex = titanic_df.groupby('Survived')['Sex'].value_counts() # survival by sex\n",
    "# histogram of survival by sex\n",
    "#fig = plt.figure()\n",
    "#plt.hist(survival_by_sex)\n",
    "#fig.suptitle('Survival by Sex')\n",
    "#plt.xlabel('Survival')\n",
    "#plt.ylabel('passengers')\n",
    "#plt.show()\n",
    "\n",
    "sibling_spouse_survival = survivors['SibSp'].value_counts()\n",
    "\n",
    "#survived = sibling_spouse_survival.loc[(sibling_spouse_survival.Survived == 1)]\n",
    "deceased = sibling_spouse_survival.loc[(sibling_spouse_survival.Survived == 0)]\n",
    "\n",
    "pyplot.hist(survived, label='Survived')\n",
    "pyplot.hist(deceased, label='Deceased')\n",
    "pyplot.show()\n",
    "\n",
    "parent_child_survival = titanic.groupby('Survived')['Parch'].value_counts()\n",
    "fig = plt.figure()\n",
    "plt.hist(parent_child_survival)\n",
    "#fig.subtitle('Survival by number of parents or children')\n",
    "plt.xlabel('Number of Passengers')\n",
    "plt.ylabel('Number of Parents or Children')\n",
    "plt.show()\n",
    "\n",
    "family_survival = titanic_df.groupby('family_size')['Survived'].value_counts()\n",
    "# histogram of survival by family size\n",
    "fig = plt.figure()\n",
    "plt.hist(family_survival)\n",
    "fig.suptitle('Survival by Family Size')\n",
    "plt.xlabel('Number of Passengers')\n",
    "plt.ylabel('family size')\n",
    "plt.show()\n",
    "#family_survival"
   ]
  },
  {
   "cell_type": "code",
   "execution_count": 66,
   "metadata": {},
   "outputs": [
    {
     "data": {
      "text/html": [
       "<div>\n",
       "<style>\n",
       "    .dataframe thead tr:only-child th {\n",
       "        text-align: right;\n",
       "    }\n",
       "\n",
       "    .dataframe thead th {\n",
       "        text-align: left;\n",
       "    }\n",
       "\n",
       "    .dataframe tbody tr th {\n",
       "        vertical-align: top;\n",
       "    }\n",
       "</style>\n",
       "<table border=\"1\" class=\"dataframe\">\n",
       "  <thead>\n",
       "    <tr style=\"text-align: right;\">\n",
       "      <th></th>\n",
       "      <th></th>\n",
       "      <th>Survived</th>\n",
       "    </tr>\n",
       "    <tr>\n",
       "      <th>SibSp</th>\n",
       "      <th>Survived</th>\n",
       "      <th></th>\n",
       "    </tr>\n",
       "  </thead>\n",
       "  <tbody>\n",
       "    <tr>\n",
       "      <th rowspan=\"2\" valign=\"top\">0</th>\n",
       "      <th>0</th>\n",
       "      <td>398</td>\n",
       "    </tr>\n",
       "    <tr>\n",
       "      <th>1</th>\n",
       "      <td>210</td>\n",
       "    </tr>\n",
       "    <tr>\n",
       "      <th rowspan=\"2\" valign=\"top\">1</th>\n",
       "      <th>1</th>\n",
       "      <td>112</td>\n",
       "    </tr>\n",
       "    <tr>\n",
       "      <th>0</th>\n",
       "      <td>97</td>\n",
       "    </tr>\n",
       "    <tr>\n",
       "      <th rowspan=\"2\" valign=\"top\">2</th>\n",
       "      <th>0</th>\n",
       "      <td>15</td>\n",
       "    </tr>\n",
       "    <tr>\n",
       "      <th>1</th>\n",
       "      <td>13</td>\n",
       "    </tr>\n",
       "    <tr>\n",
       "      <th rowspan=\"2\" valign=\"top\">3</th>\n",
       "      <th>0</th>\n",
       "      <td>12</td>\n",
       "    </tr>\n",
       "    <tr>\n",
       "      <th>1</th>\n",
       "      <td>4</td>\n",
       "    </tr>\n",
       "    <tr>\n",
       "      <th rowspan=\"2\" valign=\"top\">4</th>\n",
       "      <th>0</th>\n",
       "      <td>15</td>\n",
       "    </tr>\n",
       "    <tr>\n",
       "      <th>1</th>\n",
       "      <td>3</td>\n",
       "    </tr>\n",
       "    <tr>\n",
       "      <th>5</th>\n",
       "      <th>0</th>\n",
       "      <td>5</td>\n",
       "    </tr>\n",
       "    <tr>\n",
       "      <th>8</th>\n",
       "      <th>0</th>\n",
       "      <td>7</td>\n",
       "    </tr>\n",
       "  </tbody>\n",
       "</table>\n",
       "</div>"
      ],
      "text/plain": [
       "                Survived\n",
       "SibSp Survived          \n",
       "0     0              398\n",
       "      1              210\n",
       "1     1              112\n",
       "      0               97\n",
       "2     0               15\n",
       "      1               13\n",
       "3     0               12\n",
       "      1                4\n",
       "4     0               15\n",
       "      1                3\n",
       "5     0                5\n",
       "8     0                7"
      ]
     },
     "execution_count": 66,
     "metadata": {},
     "output_type": "execute_result"
    }
   ],
   "source": [
    "sibling_spouse_survival = pd.DataFrame(titanic.groupby('SibSp')['Survived'].value_counts())\n",
    "survived = sibling_spouse_survival.loc[(sibling_spouse_survival.Survived == 0)]\n",
    "sibling_spouse_survival"
   ]
  },
  {
   "cell_type": "code",
   "execution_count": 34,
   "metadata": {},
   "outputs": [
    {
     "data": {
      "image/png": "iVBORw0KGgoAAAANSUhEUgAAAiIAAAGWCAYAAABFB+jUAAAABHNCSVQICAgIfAhkiAAAAAlwSFlz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\nYII=\n",
      "text/plain": [
       "<matplotlib.figure.Figure at 0x7fce7d2a3190>"
      ]
     },
     "metadata": {},
     "output_type": "display_data"
    }
   ],
   "source": [
    "# histogram of passenger ages\n",
=======
    "titanic_df['Age'] = titanic_df['Age'].fillna(titanic['Age'].mean()) # fill NaN values with mean age\n",
>>>>>>> 3bbcd6943dfdfa3e874150e21e6a4aef84d00457
    "fig = plt.figure()\n",
    "plt.hist(titanic_df['Age'], bins=range(0,90,5))\n",
    "fig.suptitle('Passenger Ages')\n",
    "plt.xlabel('age')\n",
    "plt.ylabel('passengers')\n",
    "plt.axvline(titanic_df['Age'].mean(), color='b', linestyle='dashed', linewidth=3, label='Mean Passenger Age') # add mean age (29.69)\n",
    "plt.show()"
   ]
  },
  {
   "cell_type": "code",
<<<<<<< HEAD
   "execution_count": 35,
=======
   "execution_count": 88,
>>>>>>> 3bbcd6943dfdfa3e874150e21e6a4aef84d00457
   "metadata": {},
   "outputs": [
    {
     "data": {
<<<<<<< HEAD
      "image/png": "iVBORw0KGgoAAAANSUhEUgAAAhoAAAGWCAYAAAA+IyoYAAAABHNCSVQICAgIfAhkiAAAAAlwSFlz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\nWGhIkqTK/H8FRvPtxSPZFgAAAABJRU5ErkJggg==\n",
      "text/plain": [
       "<matplotlib.figure.Figure at 0x7fce7d90ccd0>"
=======
      "text/plain": [
       "<matplotlib.figure.Figure at 0x7ffa5e6aa690>"
>>>>>>> 3bbcd6943dfdfa3e874150e21e6a4aef84d00457
      ]
     },
     "metadata": {},
     "output_type": "display_data"
    },
    {
     "data": {
<<<<<<< HEAD
      "image/png": "iVBORw0KGgoAAAANSUhEUgAAAiIAAAGWCAYAAABFB+jUAAAABHNCSVQICAgIfAhkiAAAAAlwSFlz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\niCRJqoxBRJIkVcYgIkmSKmMQkSRJlfn/HqV81drDv/kAAAAASUVORK5CYII=\n",
      "text/plain": [
       "<matplotlib.figure.Figure at 0x7fce7d06b890>"
=======
      "text/plain": [
       "<matplotlib.figure.Figure at 0x7ffa5e972150>"
>>>>>>> 3bbcd6943dfdfa3e874150e21e6a4aef84d00457
      ]
     },
     "metadata": {},
     "output_type": "display_data"
    }
   ],
   "source": [
    "survivors = titanic_df[titanic_df['Survived'] == 1] # fill NaN values with mean age\n",
    "fig = plt.figure()\n",
    "plt.hist(survivors['Age'], bins=range(0,90,5))\n",
    "fig.suptitle('Age of Survivors')\n",
    "plt.xlabel('ages')\n",
    "plt.ylabel('survivors')\n",
    "plt.axvline(survivors['Age'].mean(), color='b', linestyle='dashed', linewidth=3, label='Mean Survivor Age') # add mean age\n",
    "plt.show()\n",
    "\n",
    "deceased = titanic_df[titanic_df['Survived'] == 0] # fill NaN values with mean age\n",
    "fig = plt.figure()\n",
    "plt.hist(deceased['Age'], bins=range(0,90,5))\n",
    "fig.suptitle('Age of Deceased')\n",
    "plt.xlabel('ages')\n",
    "plt.ylabel('deceased')\n",
    "plt.axvline(deceased['Age'].mean(), color='b', linestyle='dashed', linewidth=3, label='Mean Survivor Age') # add mean age\n",
    "plt.show()"
   ]
  },
  {
   "cell_type": "code",
<<<<<<< HEAD
   "execution_count": 111,
   "metadata": {},
   "outputs": [
    {
     "data": {
      "text/plain": [
       "<matplotlib.figure.Figure at 0x7ffa5eaa4e10>"
      ]
     },
     "metadata": {},
     "output_type": "display_data"
    }
   ],
   "source": [
    "fig = plt.figure()\n",
    "plt.hist(titanic_df['family_size'], bins=range(0,12,1))\n",
    "fig.suptitle('Family Size of Passengers')\n",
    "plt.xlabel('family size')\n",
    "plt.ylabel('passengers')\n",
    "plt.axvline(deceased['family_size'].mean(), color='b', linestyle='dashed', linewidth=3, label='Mean Family Size')\n",
    "plt.show()"
   ]
  },
  {
   "cell_type": "code",
   "execution_count": 43,
   "metadata": {},
   "outputs": [
    {
     "ename": "KeyError",
     "evalue": "'Age'",
     "output_type": "error",
     "traceback": [
      "\u001b[0;31m---------------------------------------------------------------------------\u001b[0m",
      "\u001b[0;31mKeyError\u001b[0m                                  Traceback (most recent call last)",
      "\u001b[0;32m<ipython-input-43-4760e3813f93>\u001b[0m in \u001b[0;36m<module>\u001b[0;34m()\u001b[0m\n\u001b[1;32m      2\u001b[0m \u001b[0;32mfrom\u001b[0m \u001b[0mmatplotlib\u001b[0m \u001b[0;32mimport\u001b[0m \u001b[0mpyplot\u001b[0m\u001b[0;34m\u001b[0m\u001b[0m\n\u001b[1;32m      3\u001b[0m \u001b[0mall_passengers\u001b[0m \u001b[0;34m=\u001b[0m \u001b[0mtitanic_df\u001b[0m\u001b[0;34m[\u001b[0m\u001b[0;34m'Age'\u001b[0m\u001b[0;34m]\u001b[0m\u001b[0;34m\u001b[0m\u001b[0m\n\u001b[0;32m----> 4\u001b[0;31m \u001b[0msurvivors\u001b[0m \u001b[0;34m=\u001b[0m \u001b[0msurvivors\u001b[0m\u001b[0;34m[\u001b[0m\u001b[0;34m'Age'\u001b[0m\u001b[0;34m]\u001b[0m\u001b[0;34m\u001b[0m\u001b[0m\n\u001b[0m\u001b[1;32m      5\u001b[0m \u001b[0;34m\u001b[0m\u001b[0m\n\u001b[1;32m      6\u001b[0m \u001b[0mbins\u001b[0m \u001b[0;34m=\u001b[0m \u001b[0mnp\u001b[0m\u001b[0;34m.\u001b[0m\u001b[0mlinspace\u001b[0m\u001b[0;34m(\u001b[0m\u001b[0;34m-\u001b[0m\u001b[0;36m10\u001b[0m\u001b[0;34m,\u001b[0m \u001b[0;36m10\u001b[0m\u001b[0;34m,\u001b[0m \u001b[0;36m100\u001b[0m\u001b[0;34m)\u001b[0m\u001b[0;34m\u001b[0m\u001b[0m\n",
      "\u001b[0;32m/projects/sage/sage-7.6/local/lib/python2.7/site-packages/pandas/core/series.py\u001b[0m in \u001b[0;36m__getitem__\u001b[0;34m(self, key)\u001b[0m\n\u001b[1;32m    599\u001b[0m         \u001b[0mkey\u001b[0m \u001b[0;34m=\u001b[0m \u001b[0mcom\u001b[0m\u001b[0;34m.\u001b[0m\u001b[0m_apply_if_callable\u001b[0m\u001b[0;34m(\u001b[0m\u001b[0mkey\u001b[0m\u001b[0;34m,\u001b[0m \u001b[0mself\u001b[0m\u001b[0;34m)\u001b[0m\u001b[0;34m\u001b[0m\u001b[0m\n\u001b[1;32m    600\u001b[0m         \u001b[0;32mtry\u001b[0m\u001b[0;34m:\u001b[0m\u001b[0;34m\u001b[0m\u001b[0m\n\u001b[0;32m--> 601\u001b[0;31m             \u001b[0mresult\u001b[0m \u001b[0;34m=\u001b[0m \u001b[0mself\u001b[0m\u001b[0;34m.\u001b[0m\u001b[0mindex\u001b[0m\u001b[0;34m.\u001b[0m\u001b[0mget_value\u001b[0m\u001b[0;34m(\u001b[0m\u001b[0mself\u001b[0m\u001b[0;34m,\u001b[0m \u001b[0mkey\u001b[0m\u001b[0;34m)\u001b[0m\u001b[0;34m\u001b[0m\u001b[0m\n\u001b[0m\u001b[1;32m    602\u001b[0m \u001b[0;34m\u001b[0m\u001b[0m\n\u001b[1;32m    603\u001b[0m             \u001b[0;32mif\u001b[0m \u001b[0;32mnot\u001b[0m \u001b[0mis_scalar\u001b[0m\u001b[0;34m(\u001b[0m\u001b[0mresult\u001b[0m\u001b[0;34m)\u001b[0m\u001b[0;34m:\u001b[0m\u001b[0;34m\u001b[0m\u001b[0m\n",
      "\u001b[0;32m/projects/sage/sage-7.6/local/lib/python2.7/site-packages/pandas/core/indexes/base.py\u001b[0m in \u001b[0;36mget_value\u001b[0;34m(self, series, key)\u001b[0m\n\u001b[1;32m   2426\u001b[0m         \u001b[0;32mtry\u001b[0m\u001b[0;34m:\u001b[0m\u001b[0;34m\u001b[0m\u001b[0m\n\u001b[1;32m   2427\u001b[0m             return self._engine.get_value(s, k,\n\u001b[0;32m-> 2428\u001b[0;31m                                           tz=getattr(series.dtype, 'tz', None))\n\u001b[0m\u001b[1;32m   2429\u001b[0m         \u001b[0;32mexcept\u001b[0m \u001b[0mKeyError\u001b[0m \u001b[0;32mas\u001b[0m \u001b[0me1\u001b[0m\u001b[0;34m:\u001b[0m\u001b[0;34m\u001b[0m\u001b[0m\n\u001b[1;32m   2430\u001b[0m             \u001b[0;32mif\u001b[0m \u001b[0mlen\u001b[0m\u001b[0;34m(\u001b[0m\u001b[0mself\u001b[0m\u001b[0;34m)\u001b[0m \u001b[0;34m>\u001b[0m \u001b[0;36m0\u001b[0m \u001b[0;32mand\u001b[0m \u001b[0mself\u001b[0m\u001b[0;34m.\u001b[0m\u001b[0minferred_type\u001b[0m \u001b[0;32min\u001b[0m \u001b[0;34m[\u001b[0m\u001b[0;34m'integer'\u001b[0m\u001b[0;34m,\u001b[0m \u001b[0;34m'boolean'\u001b[0m\u001b[0;34m]\u001b[0m\u001b[0;34m:\u001b[0m\u001b[0;34m\u001b[0m\u001b[0m\n",
      "\u001b[0;32mpandas/_libs/index.pyx\u001b[0m in \u001b[0;36mpandas._libs.index.IndexEngine.get_value (pandas/_libs/index.c:4363)\u001b[0;34m()\u001b[0m\n",
      "\u001b[0;32mpandas/_libs/index.pyx\u001b[0m in \u001b[0;36mpandas._libs.index.IndexEngine.get_value (pandas/_libs/index.c:4046)\u001b[0;34m()\u001b[0m\n",
      "\u001b[0;32mpandas/_libs/index.pyx\u001b[0m in \u001b[0;36mpandas._libs.index.IndexEngine.get_loc (pandas/_libs/index.c:5169)\u001b[0;34m()\u001b[0m\n",
      "\u001b[0;31mKeyError\u001b[0m: 'Age'"
     ]
    }
   ],
   "source": [
    "import random\n",
    "from matplotlib import pyplot\n",
    "all_passengers = titanic_df['Age']\n",
    "survivors = survivors['Age']\n",
    "\n",
    "bins = np.linspace(-10, 10, 100)\n",
    "\n",
    "pyplot.hist(all_passengers, alpha=0.5, label='x')\n",
    "pyplot.hist(survivors, alpha=0.5, label='y')\n",
    "pyplot.legend(loc='upper right')\n",
    "pyplot.show()"
   ]
  },
  {
   "cell_type": "code",
=======
>>>>>>> 3bbcd6943dfdfa3e874150e21e6a4aef84d00457
   "execution_count": 82,
   "metadata": {},
   "outputs": [
    {
     "name": "stdout",
     "output_type": "stream",
     "text": [
      "Populating the interactive namespace from numpy and matplotlib\n"
     ]
    }
   ],
   "source": [
    "%pylab inline\n",
    "#sns.factorplot('Pclass','Survived', data = titanic_df, kind = 'bar')\n",
    "#sns.factorplot('Sex', 'Survived', data = titanic_df, kind = 'bar')\n",
    "#sns.factorplot('Pclass', 'Survived', hue = 'Sex', data = titanic_df, kind = 'bar')\n",
    "#sns.factorplot('Age', 'Survived',  data = titanic_df, hue_order = [1,0], orient=\"h\", palette=\"Set3\", kind=\"violin\")"
   ]
  },
  {
   "cell_type": "code",
   "execution_count": null,
   "metadata": {
    "collapsed": true
   },
   "outputs": [],
   "source": []
  }
 ],
 "metadata": {
  "kernelspec": {
<<<<<<< HEAD
   "display_name": "Python [conda root]",
   "language": "python",
   "name": "conda-root-py"
=======
   "display_name": "Python 2 (SageMath)",
   "language": "python",
   "name": "python2"
>>>>>>> 3bbcd6943dfdfa3e874150e21e6a4aef84d00457
  },
  "language_info": {
   "codemirror_mode": {
    "name": "ipython",
<<<<<<< HEAD
    "version": 3
=======
    "version": 2
>>>>>>> 3bbcd6943dfdfa3e874150e21e6a4aef84d00457
   },
   "file_extension": ".py",
   "mimetype": "text/x-python",
   "name": "python",
   "nbconvert_exporter": "python",
<<<<<<< HEAD
   "pygments_lexer": "ipython3",
   "version": "3.6.0"
=======
   "pygments_lexer": "ipython2",
   "version": "2.7.13"
>>>>>>> 3bbcd6943dfdfa3e874150e21e6a4aef84d00457
  }
 },
 "nbformat": 4,
 "nbformat_minor": 1
}
