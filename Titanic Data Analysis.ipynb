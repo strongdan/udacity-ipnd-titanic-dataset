{
 "cells": [
  {
   "cell_type": "code",
   "execution_count": 83,
   "metadata": {
    "collapsed": true
   },
   "outputs": [],
   "source": [
    "import pandas as pd\n",
    "import numpy as np\n",
    "import matplotlib.pyplot as plt\n",
    "import seaborn as sns\n",
    "import pdb\n",
    "from scipy.stats import ttest_ind\n",
    "%matplotlib inline"
   ]
  },
  {
   "cell_type": "markdown",
   "metadata": {},
   "source": [
    "Data Dictionary\n",
    "\n",
    "Variable\tDefinition\tKey\n",
    "survival\tSurvival\t0 = No, 1 = Yes\n",
    "pclass\tTicket class\t1 = 1st, 2 = 2nd, 3 = 3rd\n",
    "sex\tSex\t\n",
    "Age\tAge in years\t\n",
    "sibsp\t# of siblings / spouses aboard the Titanic\t\n",
    "parch\t# of parents / children aboard the Titanic\t\n",
    "ticket\tTicket number\t\n",
    "fare\tPassenger fare\t\n",
    "cabin\tCabin number\t\n",
    "embarked\tPort of Embarkation"
   ]
  },
  {
   "cell_type": "code",
   "execution_count": 84,
   "metadata": {},
   "outputs": [
    {
     "name": "stdout",
     "output_type": "stream",
     "text": [
      "<class 'pandas.core.frame.DataFrame'>\n",
      "RangeIndex: 891 entries, 0 to 890\n",
      "Data columns (total 12 columns):\n",
      "PassengerId    891 non-null int64\n",
      "Survived       891 non-null int64\n",
      "Pclass         891 non-null int64\n",
      "Name           891 non-null object\n",
      "Sex            891 non-null object\n",
      "Age            714 non-null float64\n",
      "SibSp          891 non-null int64\n",
      "Parch          891 non-null int64\n",
      "Ticket         891 non-null object\n",
      "Fare           891 non-null float64\n",
      "Cabin          204 non-null object\n",
      "Embarked       889 non-null object\n",
      "dtypes: float64(2), int64(5), object(5)\n",
      "memory usage: 83.6+ KB\n"
     ]
    }
   ],
   "source": [
    "titanic = pd.read_csv(\"titanic_data.csv\")\n",
    "titanic.info()"
   ]
  },
  {
   "cell_type": "code",
   "execution_count": 85,
   "metadata": {},
   "outputs": [
    {
     "data": {
      "text/plain": [
       "Ttest_indResult(statistic=2.7606993230995345, pvalue=0.0058865348400755626)"
      ]
     },
     "execution_count": 85,
     "metadata": {},
     "output_type": "execute_result"
    }
   ],
   "source": [
    "# Use a t-test to see whether to ignore NaN values in age column or fill with the mean\n",
    "with_age = titanic[titanic['Age'].notnull()]\n",
    "without_age = titanic[titanic['Age'].isnull()]\n",
    "ttest_ind(with_age['Survived'], without_age['Survived']) \n",
    "# value of 2.76 indicates a significant difference and suggests filling NaNs with the age mean"
   ]
  },
  {
   "cell_type": "code",
   "execution_count": 86,
   "metadata": {},
   "outputs": [
    {
     "data": {
      "text/plain": [
       "   PassengerId  Survived Pclass     Sex   Age  family_size\n",
       "0            1         0  Lower    male  22.0            1\n",
       "1            2         1  Upper  female  38.0            1\n",
       "2            3         1  Lower  female  26.0            0\n",
       "3            4         1  Upper  female  35.0            1\n",
       "4            5         0  Lower    male  35.0            0"
      ]
     },
     "execution_count": 86,
     "metadata": {},
     "output_type": "execute_result"
    }
   ],
   "source": [
    "def modify_columns(df):\n",
    "\n",
    "    # Passenger class\n",
    "    pclass = {1: 'Upper', 2: 'Middle', 3: 'Lower'}\n",
    "    df['Pclass'] = df['Pclass'].map(pclass)\n",
    "    \n",
    "    # family size = sum of SibSp and Parch\n",
    "    df['family_size'] = df['SibSp'] + df['Parch']\n",
    "    \n",
    "    # drop name because it has no use for this analysis\n",
    "    # drop ticket number because it serves no use - passenger id will suffice\n",
    "    # drop fare because class will provide more useful information\n",
    "    # drop port of embarkation because it has no use in my analysis\n",
    "    df = df.drop(['Cabin','Name','Ticket', 'Fare', 'SibSp','Parch','Embarked'], axis=1)\n",
    "    \n",
    "    return df\n",
    "\n",
    "titanic_df = modify_columns(titanic)\n",
    "titanic_df.head()"
   ]
  },
  {
   "cell_type": "code",
   "execution_count": 87,
   "metadata": {},
   "outputs": [
    {
     "data": {
      "text/plain": [
       "<matplotlib.figure.Figure at 0x7ffa5ea034d0>"
      ]
     },
     "metadata": {},
     "output_type": "display_data"
    }
   ],
   "source": [
    "titanic_df['Age'] = titanic_df['Age'].fillna(titanic['Age'].mean()) # fill NaN values with mean age\n",
    "fig = plt.figure()\n",
    "plt.hist(titanic_df['Age'], bins=range(0,90,5))\n",
    "fig.suptitle('Passenger Ages')\n",
    "plt.xlabel('age')\n",
    "plt.ylabel('passengers')\n",
    "plt.axvline(titanic_df['Age'].mean(), color='b', linestyle='dashed', linewidth=3, label='Mean Passenger Age') # add mean age (29.69)\n",
    "plt.show()"
   ]
  },
  {
   "cell_type": "code",
   "execution_count": 88,
   "metadata": {},
   "outputs": [
    {
     "data": {
      "text/plain": [
       "<matplotlib.figure.Figure at 0x7ffa5e6aa690>"
      ]
     },
     "metadata": {},
     "output_type": "display_data"
    },
    {
     "data": {
      "text/plain": [
       "<matplotlib.figure.Figure at 0x7ffa5e972150>"
      ]
     },
     "metadata": {},
     "output_type": "display_data"
    }
   ],
   "source": [
    "survivors = titanic_df[titanic_df['Survived'] == 1] # fill NaN values with mean age\n",
    "fig = plt.figure()\n",
    "plt.hist(survivors['Age'], bins=range(0,90,5))\n",
    "fig.suptitle('Age of Survivors')\n",
    "plt.xlabel('ages')\n",
    "plt.ylabel('survivors')\n",
    "plt.axvline(survivors['Age'].mean(), color='b', linestyle='dashed', linewidth=3, label='Mean Survivor Age') # add mean age\n",
    "plt.show()\n",
    "\n",
    "deceased = titanic_df[titanic_df['Survived'] == 0] # fill NaN values with mean age\n",
    "fig = plt.figure()\n",
    "plt.hist(deceased['Age'], bins=range(0,90,5))\n",
    "fig.suptitle('Age of Deceased')\n",
    "plt.xlabel('ages')\n",
    "plt.ylabel('deceased')\n",
    "plt.axvline(deceased['Age'].mean(), color='b', linestyle='dashed', linewidth=3, label='Mean Survivor Age') # add mean age\n",
    "plt.show()"
   ]
  },
  {
   "cell_type": "code",
   "execution_count": 82,
   "metadata": {},
   "outputs": [
    {
     "name": "stdout",
     "output_type": "stream",
     "text": [
      "Populating the interactive namespace from numpy and matplotlib\n"
     ]
    }
   ],
   "source": [
    "%pylab inline\n",
    "#sns.factorplot('Pclass','Survived', data = titanic_df, kind = 'bar')\n",
    "#sns.factorplot('Sex', 'Survived', data = titanic_df, kind = 'bar')\n",
    "#sns.factorplot('Pclass', 'Survived', hue = 'Sex', data = titanic_df, kind = 'bar')\n",
    "#sns.factorplot('Age', 'Survived',  data = titanic_df, hue_order = [1,0], orient=\"h\", palette=\"Set3\", kind=\"violin\")"
   ]
  },
  {
   "cell_type": "code",
   "execution_count": null,
   "metadata": {
    "collapsed": true
   },
   "outputs": [],
   "source": []
  }
 ],
 "metadata": {
  "kernelspec": {
   "display_name": "Python 2 (SageMath)",
   "language": "python",
   "name": "python2"
  },
  "language_info": {
   "codemirror_mode": {
    "name": "ipython",
    "version": 2
   },
   "file_extension": ".py",
   "mimetype": "text/x-python",
   "name": "python",
   "nbconvert_exporter": "python",
   "pygments_lexer": "ipython2",
   "version": "2.7.13"
  }
 },
 "nbformat": 4,
 "nbformat_minor": 1
}
